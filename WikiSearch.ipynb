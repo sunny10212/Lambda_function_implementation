{
 "cells": [
  {
   "cell_type": "code",
   "execution_count": 1,
   "metadata": {},
   "outputs": [],
   "source": [
    "import wikipedia"
   ]
  },
  {
   "cell_type": "code",
   "execution_count": 2,
   "metadata": {},
   "outputs": [],
   "source": [
    "def wikipage2file(wiki_pg_title, output_filepath):\n",
    "    frst_pg = wikipedia.page(wikipedia.search(wiki_pg_title)[1])\n",
    "    filename = frst_pg.title.replace(\" \",\"\")+\".txt\"\n",
    "    wikitxt = open(filename,\"w+\")\n",
    "    wikitxt.write(frst_pg.title+\"\\n\\n\\n\"+frst_pg.content)\n",
    "    wikitxt.close()"
   ]
  },
  {
   "cell_type": "code",
   "execution_count": 3,
   "metadata": {},
   "outputs": [],
   "source": [
    "def similar(x,y):\n",
    "    pageX = set([i.rstrip(\"\\n\") for i in wikipedia.page(wikipedia.search(x)[1]).content.split(\" \")])\n",
    "    pageY = set([i.rstrip(\"\\n\") for i in wikipedia.page(wikipedia.search(y)[1]).content.split(\" \")])\n",
    "    union = pageX | pageY\n",
    "    intersection = pageX & pageY\n",
    "    return(len(intersection) / len(union))"
   ]
  },
  {
   "cell_type": "code",
   "execution_count": 4,
   "metadata": {},
   "outputs": [
    {
     "name": "stdout",
     "output_type": "stream",
     "text": [
      "1. Convert Wikipage to file\n",
      "2. Similar Wikipages\n",
      "x. Exit\n",
      "\n",
      "Enter choice: 1\n",
      " Enter Wikipedia page title: Chandragupta Maurya\n",
      " Enter filepath: C:\\Users\\Siddharth\\Desktop\n",
      "\n",
      "1. Convert Wikipage to file\n",
      "2. Similar Wikipages\n",
      "x. Exit\n",
      "\n",
      "Enter choice: x\n",
      "Goodbye\n",
      "\n"
     ]
    }
   ],
   "source": [
    "ch = True\n",
    "while ch:\n",
    "    print(\"1. Convert Wikipage to file\")\n",
    "    print(\"2. Similar Wikipages\")\n",
    "    print(\"x. Exit\\n\")\n",
    "    ch = input(\"Enter choice: \")\n",
    "    if ch==\"1\": \n",
    "      pgTitle = input(\" Enter Wikipedia page title: \")\n",
    "      filepath = input(\" Enter filepath: \")\n",
    "      wikipage2file(pgTitle , filepath) \n",
    "      print(\"\")\n",
    "    elif ch==\"2\":\n",
    "      page1 = input(\" Enter first Wikipedia page title: \")\n",
    "      page2 = input(\" Enter second Wikipedia page title: \")\n",
    "      similarity = similar(page1 , page2)\n",
    "      print(\" Similarity is:\" + str(similarity)+\"\\n\")\n",
    "    elif ch.casefold()==\"x\":\n",
    "      print(\"Goodbye\\n\") \n",
    "      break\n",
    "    elif ch !=\"\":\n",
    "      print(\"Not Valid Choice Try again\\n\")"
   ]
  },
  {
   "cell_type": "code",
   "execution_count": null,
   "metadata": {},
   "outputs": [],
   "source": []
  }
 ],
 "metadata": {
  "kernelspec": {
   "display_name": "Python 3",
   "language": "python",
   "name": "python3"
  },
  "language_info": {
   "codemirror_mode": {
    "name": "ipython",
    "version": 3
   },
   "file_extension": ".py",
   "mimetype": "text/x-python",
   "name": "python",
   "nbconvert_exporter": "python",
   "pygments_lexer": "ipython3",
   "version": "3.7.4"
  }
 },
 "nbformat": 4,
 "nbformat_minor": 2
}
